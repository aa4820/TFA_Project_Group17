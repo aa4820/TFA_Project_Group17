{
 "cells": [
  {
   "cell_type": "code",
   "execution_count": 1,
   "metadata": {},
   "outputs": [
    {
     "name": "stderr",
     "output_type": "stream",
     "text": [
      "C:\\Users\\Sophia Nikhar\\anaconda3\\lib\\site-packages\\IPython\\core\\interactiveshell.py:3071: DtypeWarning: Columns (20,31,32) have mixed types.Specify dtype option on import or set low_memory=False.\n",
      "  has_raised = await self.run_ast_nodes(code_ast.body, cell_name,\n"
     ]
    }
   ],
   "source": [
    "import pandas as pd\n",
    "data = pd.read_csv('311_Service_Requests_2020.csv')"
   ]
  },
  {
   "cell_type": "code",
   "execution_count": 2,
   "metadata": {},
   "outputs": [
    {
     "data": {
      "text/html": [
       "<div>\n",
       "<style scoped>\n",
       "    .dataframe tbody tr th:only-of-type {\n",
       "        vertical-align: middle;\n",
       "    }\n",
       "\n",
       "    .dataframe tbody tr th {\n",
       "        vertical-align: top;\n",
       "    }\n",
       "\n",
       "    .dataframe thead th {\n",
       "        text-align: right;\n",
       "    }\n",
       "</style>\n",
       "<table border=\"1\" class=\"dataframe\">\n",
       "  <thead>\n",
       "    <tr style=\"text-align: right;\">\n",
       "      <th></th>\n",
       "      <th>Unique Key</th>\n",
       "      <th>Created Date</th>\n",
       "      <th>Closed Date</th>\n",
       "      <th>Agency</th>\n",
       "      <th>Agency Name</th>\n",
       "      <th>Complaint Type</th>\n",
       "      <th>Descriptor</th>\n",
       "      <th>Location Type</th>\n",
       "      <th>Incident Zip</th>\n",
       "      <th>Incident Address</th>\n",
       "      <th>...</th>\n",
       "      <th>Vehicle Type</th>\n",
       "      <th>Taxi Company Borough</th>\n",
       "      <th>Taxi Pick Up Location</th>\n",
       "      <th>Bridge Highway Name</th>\n",
       "      <th>Bridge Highway Direction</th>\n",
       "      <th>Road Ramp</th>\n",
       "      <th>Bridge Highway Segment</th>\n",
       "      <th>Latitude</th>\n",
       "      <th>Longitude</th>\n",
       "      <th>Location</th>\n",
       "    </tr>\n",
       "  </thead>\n",
       "  <tbody>\n",
       "    <tr>\n",
       "      <th>0</th>\n",
       "      <td>45285347</td>\n",
       "      <td>01/01/2020 12:00:00 AM</td>\n",
       "      <td>01/10/2020 12:00:01 AM</td>\n",
       "      <td>DOHMH</td>\n",
       "      <td>Department of Health and Mental Hygiene</td>\n",
       "      <td>Food Poisoning</td>\n",
       "      <td>3 or More</td>\n",
       "      <td>Restaurant/Bar/Deli/Bakery</td>\n",
       "      <td>11229.0</td>\n",
       "      <td>3442 NOSTRAND AVENUE</td>\n",
       "      <td>...</td>\n",
       "      <td>NaN</td>\n",
       "      <td>NaN</td>\n",
       "      <td>NaN</td>\n",
       "      <td>NaN</td>\n",
       "      <td>NaN</td>\n",
       "      <td>NaN</td>\n",
       "      <td>NaN</td>\n",
       "      <td>40.600129</td>\n",
       "      <td>-73.941843</td>\n",
       "      <td>(40.6001292057807, -73.94184291675883)</td>\n",
       "    </tr>\n",
       "    <tr>\n",
       "      <th>1</th>\n",
       "      <td>45285651</td>\n",
       "      <td>01/01/2020 12:00:00 AM</td>\n",
       "      <td>01/02/2020 12:00:01 AM</td>\n",
       "      <td>DOHMH</td>\n",
       "      <td>Department of Health and Mental Hygiene</td>\n",
       "      <td>Food Poisoning</td>\n",
       "      <td>1 or 2</td>\n",
       "      <td>Restaurant/Bar/Deli/Bakery</td>\n",
       "      <td>10458.0</td>\n",
       "      <td>2701 DECATUR AVENUE</td>\n",
       "      <td>...</td>\n",
       "      <td>NaN</td>\n",
       "      <td>NaN</td>\n",
       "      <td>NaN</td>\n",
       "      <td>NaN</td>\n",
       "      <td>NaN</td>\n",
       "      <td>NaN</td>\n",
       "      <td>NaN</td>\n",
       "      <td>40.864866</td>\n",
       "      <td>-73.888783</td>\n",
       "      <td>(40.86486556770799, -73.88878325729915)</td>\n",
       "    </tr>\n",
       "    <tr>\n",
       "      <th>2</th>\n",
       "      <td>45285821</td>\n",
       "      <td>01/01/2020 12:00:00 AM</td>\n",
       "      <td>01/02/2020 09:50:09 AM</td>\n",
       "      <td>DOHMH</td>\n",
       "      <td>Department of Health and Mental Hygiene</td>\n",
       "      <td>Food Poisoning</td>\n",
       "      <td>1 or 2</td>\n",
       "      <td>Other (Explain Below)</td>\n",
       "      <td>11203.0</td>\n",
       "      <td>5707 CHURCH AVENUE</td>\n",
       "      <td>...</td>\n",
       "      <td>NaN</td>\n",
       "      <td>NaN</td>\n",
       "      <td>NaN</td>\n",
       "      <td>NaN</td>\n",
       "      <td>NaN</td>\n",
       "      <td>NaN</td>\n",
       "      <td>NaN</td>\n",
       "      <td>40.652536</td>\n",
       "      <td>-73.923540</td>\n",
       "      <td>(40.65253575905768, -73.92353994017134)</td>\n",
       "    </tr>\n",
       "    <tr>\n",
       "      <th>3</th>\n",
       "      <td>45287907</td>\n",
       "      <td>01/01/2020 12:00:00 AM</td>\n",
       "      <td>01/02/2020 12:00:01 AM</td>\n",
       "      <td>DOHMH</td>\n",
       "      <td>Department of Health and Mental Hygiene</td>\n",
       "      <td>Food Poisoning</td>\n",
       "      <td>3 or More</td>\n",
       "      <td>Restaurant/Bar/Deli/Bakery</td>\n",
       "      <td>11214.0</td>\n",
       "      <td>1602 SHORE PARKWAY</td>\n",
       "      <td>...</td>\n",
       "      <td>NaN</td>\n",
       "      <td>NaN</td>\n",
       "      <td>NaN</td>\n",
       "      <td>NaN</td>\n",
       "      <td>NaN</td>\n",
       "      <td>NaN</td>\n",
       "      <td>NaN</td>\n",
       "      <td>40.595653</td>\n",
       "      <td>-74.000173</td>\n",
       "      <td>(40.59565343138651, -74.00017283917487)</td>\n",
       "    </tr>\n",
       "    <tr>\n",
       "      <th>4</th>\n",
       "      <td>45288240</td>\n",
       "      <td>01/01/2020 12:00:00 AM</td>\n",
       "      <td>01/02/2020 12:00:01 AM</td>\n",
       "      <td>DOHMH</td>\n",
       "      <td>Department of Health and Mental Hygiene</td>\n",
       "      <td>Food Poisoning</td>\n",
       "      <td>1 or 2</td>\n",
       "      <td>Restaurant/Bar/Deli/Bakery</td>\n",
       "      <td>11385.0</td>\n",
       "      <td>1717 CORNELIA STREET</td>\n",
       "      <td>...</td>\n",
       "      <td>NaN</td>\n",
       "      <td>NaN</td>\n",
       "      <td>NaN</td>\n",
       "      <td>NaN</td>\n",
       "      <td>NaN</td>\n",
       "      <td>NaN</td>\n",
       "      <td>NaN</td>\n",
       "      <td>40.700366</td>\n",
       "      <td>-73.905438</td>\n",
       "      <td>(40.700366489799876, -73.90543829006366)</td>\n",
       "    </tr>\n",
       "  </tbody>\n",
       "</table>\n",
       "<p>5 rows × 41 columns</p>\n",
       "</div>"
      ],
      "text/plain": [
       "   Unique Key            Created Date             Closed Date Agency  \\\n",
       "0    45285347  01/01/2020 12:00:00 AM  01/10/2020 12:00:01 AM  DOHMH   \n",
       "1    45285651  01/01/2020 12:00:00 AM  01/02/2020 12:00:01 AM  DOHMH   \n",
       "2    45285821  01/01/2020 12:00:00 AM  01/02/2020 09:50:09 AM  DOHMH   \n",
       "3    45287907  01/01/2020 12:00:00 AM  01/02/2020 12:00:01 AM  DOHMH   \n",
       "4    45288240  01/01/2020 12:00:00 AM  01/02/2020 12:00:01 AM  DOHMH   \n",
       "\n",
       "                               Agency Name  Complaint Type Descriptor  \\\n",
       "0  Department of Health and Mental Hygiene  Food Poisoning  3 or More   \n",
       "1  Department of Health and Mental Hygiene  Food Poisoning     1 or 2   \n",
       "2  Department of Health and Mental Hygiene  Food Poisoning     1 or 2   \n",
       "3  Department of Health and Mental Hygiene  Food Poisoning  3 or More   \n",
       "4  Department of Health and Mental Hygiene  Food Poisoning     1 or 2   \n",
       "\n",
       "                Location Type  Incident Zip      Incident Address  ...  \\\n",
       "0  Restaurant/Bar/Deli/Bakery       11229.0  3442 NOSTRAND AVENUE  ...   \n",
       "1  Restaurant/Bar/Deli/Bakery       10458.0   2701 DECATUR AVENUE  ...   \n",
       "2       Other (Explain Below)       11203.0    5707 CHURCH AVENUE  ...   \n",
       "3  Restaurant/Bar/Deli/Bakery       11214.0    1602 SHORE PARKWAY  ...   \n",
       "4  Restaurant/Bar/Deli/Bakery       11385.0  1717 CORNELIA STREET  ...   \n",
       "\n",
       "  Vehicle Type Taxi Company Borough Taxi Pick Up Location Bridge Highway Name  \\\n",
       "0          NaN                  NaN                   NaN                 NaN   \n",
       "1          NaN                  NaN                   NaN                 NaN   \n",
       "2          NaN                  NaN                   NaN                 NaN   \n",
       "3          NaN                  NaN                   NaN                 NaN   \n",
       "4          NaN                  NaN                   NaN                 NaN   \n",
       "\n",
       "  Bridge Highway Direction Road Ramp Bridge Highway Segment   Latitude  \\\n",
       "0                      NaN       NaN                    NaN  40.600129   \n",
       "1                      NaN       NaN                    NaN  40.864866   \n",
       "2                      NaN       NaN                    NaN  40.652536   \n",
       "3                      NaN       NaN                    NaN  40.595653   \n",
       "4                      NaN       NaN                    NaN  40.700366   \n",
       "\n",
       "   Longitude                                  Location  \n",
       "0 -73.941843    (40.6001292057807, -73.94184291675883)  \n",
       "1 -73.888783   (40.86486556770799, -73.88878325729915)  \n",
       "2 -73.923540   (40.65253575905768, -73.92353994017134)  \n",
       "3 -74.000173   (40.59565343138651, -74.00017283917487)  \n",
       "4 -73.905438  (40.700366489799876, -73.90543829006366)  \n",
       "\n",
       "[5 rows x 41 columns]"
      ]
     },
     "execution_count": 2,
     "metadata": {},
     "output_type": "execute_result"
    }
   ],
   "source": [
    "data.head()"
   ]
  },
  {
   "cell_type": "code",
   "execution_count": 3,
   "metadata": {},
   "outputs": [
    {
     "name": "stdout",
     "output_type": "stream",
     "text": [
      "<class 'pandas.core.frame.DataFrame'>\n",
      "RangeIndex: 2587316 entries, 0 to 2587315\n",
      "Data columns (total 41 columns):\n",
      " #   Column                          Dtype  \n",
      "---  ------                          -----  \n",
      " 0   Unique Key                      int64  \n",
      " 1   Created Date                    object \n",
      " 2   Closed Date                     object \n",
      " 3   Agency                          object \n",
      " 4   Agency Name                     object \n",
      " 5   Complaint Type                  object \n",
      " 6   Descriptor                      object \n",
      " 7   Location Type                   object \n",
      " 8   Incident Zip                    float64\n",
      " 9   Incident Address                object \n",
      " 10  Street Name                     object \n",
      " 11  Cross Street 1                  object \n",
      " 12  Cross Street 2                  object \n",
      " 13  Intersection Street 1           object \n",
      " 14  Intersection Street 2           object \n",
      " 15  Address Type                    object \n",
      " 16  City                            object \n",
      " 17  Landmark                        object \n",
      " 18  Facility Type                   object \n",
      " 19  Status                          object \n",
      " 20  Due Date                        object \n",
      " 21  Resolution Description          object \n",
      " 22  Resolution Action Updated Date  object \n",
      " 23  Community Board                 object \n",
      " 24  BBL                             float64\n",
      " 25  Borough                         object \n",
      " 26  X Coordinate (State Plane)      float64\n",
      " 27  Y Coordinate (State Plane)      float64\n",
      " 28  Open Data Channel Type          object \n",
      " 29  Park Facility Name              object \n",
      " 30  Park Borough                    object \n",
      " 31  Vehicle Type                    object \n",
      " 32  Taxi Company Borough            object \n",
      " 33  Taxi Pick Up Location           object \n",
      " 34  Bridge Highway Name             object \n",
      " 35  Bridge Highway Direction        object \n",
      " 36  Road Ramp                       object \n",
      " 37  Bridge Highway Segment          object \n",
      " 38  Latitude                        float64\n",
      " 39  Longitude                       float64\n",
      " 40  Location                        object \n",
      "dtypes: float64(6), int64(1), object(34)\n",
      "memory usage: 809.3+ MB\n"
     ]
    }
   ],
   "source": [
    "data.info()"
   ]
  },
  {
   "cell_type": "code",
   "execution_count": 4,
   "metadata": {},
   "outputs": [
    {
     "data": {
      "text/plain": [
       "array(['Food Poisoning', 'Blocked Driveway', 'Noise - Residential',\n",
       "       'Noise - Helicopter', 'Noise - Commercial', 'HEAT/HOT WATER',\n",
       "       'Illegal Parking', 'Street Condition', 'Rodent',\n",
       "       'Noise - Street/Sidewalk', 'Illegal Fireworks', 'PLUMBING',\n",
       "       'DOOR/WINDOW', 'Sidewalk Condition', 'Taxi Complaint',\n",
       "       'Traffic Signal Condition', 'Dirty Conditions', 'Building/Use',\n",
       "       'Noise', 'Sewer', 'Drinking', 'Street Light Condition',\n",
       "       'Noise - Vehicle', 'Animal-Abuse', 'Elevator', 'Derelict Vehicles',\n",
       "       'Dead/Dying Tree', 'Non-Emergency Police Matter',\n",
       "       'Homeless Encampment', 'WATER LEAK', 'UNSANITARY CONDITION',\n",
       "       'General Construction/Plumbing', 'Boilers',\n",
       "       'Street Sign - Missing', 'Water System',\n",
       "       'For Hire Vehicle Complaint', 'Food Establishment',\n",
       "       'Special Projects Inspection Team (SPIT)', 'Lead', 'Lost Property',\n",
       "       'Abandoned Vehicle', 'Hazardous Materials', 'PAINT/PLASTER',\n",
       "       'APPLIANCE', 'FLOORING/STAIRS', 'Highway Condition',\n",
       "       'Street Sign - Damaged', 'Consumer Complaint',\n",
       "       'Sanitation Condition', 'Air Quality', 'Taxi Report',\n",
       "       'Missed Collection (All Materials)', 'Overgrown Tree/Branches',\n",
       "       'Homeless Person Assistance', 'GENERAL', 'Noise - Park',\n",
       "       'Damaged Tree', 'Graffiti', 'ELECTRIC', 'Maintenance or Facility',\n",
       "       'Street Sign - Dangling', 'Derelict Bicycle', 'New Tree Request',\n",
       "       'Panhandling', 'Electrical', 'Animal in a Park', 'SAFETY',\n",
       "       'Vending', 'Drug Activity', 'Unleashed Dog', 'Water Quality',\n",
       "       'Root/Sewer/Sidewalk Condition', 'ELEVATOR', 'Smoking',\n",
       "       'Illegal Animal Kept as Pet', 'Curb Condition',\n",
       "       'Unsanitary Animal Pvt Property', 'Mobile Food Vendor',\n",
       "       'Broken Parking Meter', 'Public Payphone Complaint',\n",
       "       'Bike/Roller/Skate Chronic',\n",
       "       'Home Delivered Meal - Missed Delivery', 'Asbestos',\n",
       "       'Green Taxi Complaint', 'BEST/Site Safety', 'School Maintenance',\n",
       "       'Illegal Tree Damage', 'Pet Shop', 'Plumbing',\n",
       "       'Beach/Pool/Sauna Complaint', 'Indoor Sewage', 'Vacant Lot',\n",
       "       'Traffic', 'For Hire Vehicle Report', 'Snow',\n",
       "       'Municipal Parking Facility', 'Water Conservation',\n",
       "       'Indoor Air Quality', 'OUTSIDE BUILDING', 'Scaffold Safety',\n",
       "       'Other Enforcement', 'Unsanitary Pigeon Condition',\n",
       "       'Bridge Condition', 'Plant', 'Industrial Waste',\n",
       "       'Non-Residential Heat', 'Executive Inspections',\n",
       "       'Construction Lead Dust', 'Ferry Complaint',\n",
       "       'Unsanitary Animal Facility', 'Mold', 'Noise - House of Worship',\n",
       "       'Violation of Park Rules', 'Investigations and Discipline (IAD)',\n",
       "       'Highway Sign - Dangling', 'Bus Stop Shelter Complaint',\n",
       "       'Ferry Inquiry', 'Day Care', 'Emergency Response Team (ERT)',\n",
       "       'Peeling Paint', 'Special Natural Area District (SNAD)',\n",
       "       'Urinating in Public', 'Recycling Enforcement',\n",
       "       'DEP Street Condition', 'Disorderly Youth',\n",
       "       'Bus Stop Shelter Placement', 'Highway Sign - Damaged',\n",
       "       'Highway Sign - Missing', 'Posting Advertisement',\n",
       "       'Green Taxi Report', 'Borough Office',\n",
       "       'Home Delivered Meal Complaint', 'Drinking Water',\n",
       "       'Cranes and Derricks', 'Building Marshals office',\n",
       "       'Found Property', 'FHV Licensee Complaint',\n",
       "       'Homeless Street Condition', 'Taxi Compliment', 'Encampment',\n",
       "       'Ferry Permit', 'Building Condition', 'Tattooing',\n",
       "       'Bike Rack Condition', 'LinkNYC', 'Illegal Animal Sold',\n",
       "       'Cooling Tower', 'Animal Facility - No Permit',\n",
       "       'Dept of Investigations', 'X-Ray Machine/Equipment',\n",
       "       'Snow Removal', 'Internal Code', 'Window Guard',\n",
       "       'Employee Behavior', 'Facades', 'Public Toilet',\n",
       "       'Overflowing Litter Baskets', 'Poison Ivy', 'Squeegee',\n",
       "       'Calorie Labeling', 'Bottled Water', 'Tunnel Condition',\n",
       "       'Radioactive Material', 'Tanning', 'Lifeguard',\n",
       "       'Miscellaneous Categories', 'Litter Basket / Request',\n",
       "       'COVID-19 Non-essential Construction', 'Harboring Bees/Wasps',\n",
       "       'DSNY Spillage', 'Mosquitoes',\n",
       "       'NonCompliance with Phased Reopening', 'Standing Water',\n",
       "       'Sweeping/Inadequate', 'Outdoor Dining', 'Sweeping/Missed',\n",
       "       'Collection Truck Noise', 'Dispatched Taxi Complaint',\n",
       "       'Private or Charter School Reopening', 'Mass Gathering Complaint',\n",
       "       'DEP Sidewalk Condition', 'Trans Fat', 'Wood Pile Remaining',\n",
       "       'Uprooted Stump', 'SNW'], dtype=object)"
      ]
     },
     "execution_count": 4,
     "metadata": {},
     "output_type": "execute_result"
    }
   ],
   "source": [
    "data ['Complaint Type'].unique()"
   ]
  },
  {
   "cell_type": "code",
   "execution_count": 5,
   "metadata": {},
   "outputs": [
    {
     "name": "stderr",
     "output_type": "stream",
     "text": [
      "<ipython-input-5-039be3d1c6b5>:2: SettingWithCopyWarning: \n",
      "A value is trying to be set on a copy of a slice from a DataFrame.\n",
      "Try using .loc[row_indexer,col_indexer] = value instead\n",
      "\n",
      "See the caveats in the documentation: https://pandas.pydata.org/pandas-docs/stable/user_guide/indexing.html#returning-a-view-versus-a-copy\n",
      "  df1[\"Incident Zip\"]=df1[\"Incident Zip\"].astype(int)\n"
     ]
    }
   ],
   "source": [
    "df1 = data[data['Incident Zip']== 10027.0]\n",
    "df1['Incident Zip']=df1['Incident Zip'].astype(int)"
   ]
  },
  {
   "cell_type": "code",
   "execution_count": 23,
   "metadata": {},
   "outputs": [
    {
     "name": "stdout",
     "output_type": "stream",
     "text": [
      "<class 'pandas.core.frame.DataFrame'>\n",
      "Int64Index: 21470 entries, 305 to 2587183\n",
      "Data columns (total 41 columns):\n",
      " #   Column                          Non-Null Count  Dtype  \n",
      "---  ------                          --------------  -----  \n",
      " 0   Unique Key                      21470 non-null  int64  \n",
      " 1   Created Date                    21470 non-null  object \n",
      " 2   Closed Date                     20937 non-null  object \n",
      " 3   Agency                          21470 non-null  object \n",
      " 4   Agency Name                     21470 non-null  object \n",
      " 5   Complaint Type                  21470 non-null  object \n",
      " 6   Descriptor                      20146 non-null  object \n",
      " 7   Location Type                   18065 non-null  object \n",
      " 8   Incident Zip                    21470 non-null  int32  \n",
      " 9   Incident Address                21286 non-null  object \n",
      " 10  Street Name                     21286 non-null  object \n",
      " 11  Cross Street 1                  15451 non-null  object \n",
      " 12  Cross Street 2                  15449 non-null  object \n",
      " 13  Intersection Street 1           14255 non-null  object \n",
      " 14  Intersection Street 2           14254 non-null  object \n",
      " 15  Address Type                    8272 non-null   object \n",
      " 16  City                            20615 non-null  object \n",
      " 17  Landmark                        13175 non-null  object \n",
      " 18  Facility Type                   165 non-null    object \n",
      " 19  Status                          21470 non-null  object \n",
      " 20  Due Date                        43 non-null     object \n",
      " 21  Resolution Description          21332 non-null  object \n",
      " 22  Resolution Action Updated Date  21354 non-null  object \n",
      " 23  Community Board                 21470 non-null  object \n",
      " 24  BBL                             19884 non-null  float64\n",
      " 25  Borough                         21470 non-null  object \n",
      " 26  X Coordinate (State Plane)      21383 non-null  float64\n",
      " 27  Y Coordinate (State Plane)      21383 non-null  float64\n",
      " 28  Open Data Channel Type          21470 non-null  object \n",
      " 29  Park Facility Name              21470 non-null  object \n",
      " 30  Park Borough                    21470 non-null  object \n",
      " 31  Vehicle Type                    2 non-null      object \n",
      " 32  Taxi Company Borough            11 non-null     object \n",
      " 33  Taxi Pick Up Location           152 non-null    object \n",
      " 34  Bridge Highway Name             0 non-null      object \n",
      " 35  Bridge Highway Direction        0 non-null      object \n",
      " 36  Road Ramp                       0 non-null      object \n",
      " 37  Bridge Highway Segment          0 non-null      object \n",
      " 38  Latitude                        21383 non-null  float64\n",
      " 39  Longitude                       21383 non-null  float64\n",
      " 40  Location                        21383 non-null  object \n",
      "dtypes: float64(5), int32(1), int64(1), object(34)\n",
      "memory usage: 6.8+ MB\n"
     ]
    }
   ],
   "source": [
    "df1.info()"
   ]
  },
  {
   "cell_type": "code",
   "execution_count": 9,
   "metadata": {},
   "outputs": [
    {
     "data": {
      "text/plain": [
       "Complaint Type\n",
       "Noise - Residential        406050\n",
       "Noise - Street/Sidewalk    206541\n",
       "Illegal Parking            193721\n",
       "HEAT/HOT WATER             164071\n",
       "Blocked Driveway           116377\n",
       "                            ...  \n",
       "Sweeping/Inadequate             1\n",
       "DEP Sidewalk Condition          1\n",
       "Tanning                         1\n",
       "Facades                         1\n",
       "Trans Fat                       1\n",
       "Length: 185, dtype: int64"
      ]
     },
     "execution_count": 9,
     "metadata": {},
     "output_type": "execute_result"
    }
   ],
   "source": [
    "top10_total = data.groupby(['Complaint Type']).size().sort_values(ascending = False)\n",
    "top10_total"
   ]
  },
  {
   "cell_type": "code",
   "execution_count": 10,
   "metadata": {},
   "outputs": [
    {
     "data": {
      "text/plain": [
       "Complaint Type\n",
       "Noise - Residential            3610\n",
       "Noise - Street/Sidewalk        3087\n",
       "HEAT/HOT WATER                 2138\n",
       "Illegal Parking                1118\n",
       "Non-Emergency Police Matter     862\n",
       "                               ... \n",
       "BEST/Site Safety                  1\n",
       "Encampment                        1\n",
       "Drinking Water                    1\n",
       "Cranes and Derricks               1\n",
       "Standing Water                    1\n",
       "Length: 125, dtype: int64"
      ]
     },
     "execution_count": 10,
     "metadata": {},
     "output_type": "execute_result"
    }
   ],
   "source": [
    "top10_zip = df1.groupby(['Complaint Type']).size().sort_values(ascending = False)\n",
    "top10_zip"
   ]
  },
  {
   "cell_type": "code",
   "execution_count": 18,
   "metadata": {},
   "outputs": [
    {
     "data": {
      "text/plain": [
       "2587316"
      ]
     },
     "execution_count": 18,
     "metadata": {},
     "output_type": "execute_result"
    }
   ],
   "source": [
    "total_incidents = data['Complaint Type'].count()\n",
    "total_incidents"
   ]
  },
  {
   "cell_type": "code",
   "execution_count": 19,
   "metadata": {},
   "outputs": [
    {
     "data": {
      "text/plain": [
       "7.4873343650331075"
      ]
     },
     "execution_count": 19,
     "metadata": {},
     "output_type": "execute_result"
    }
   ],
   "source": [
    "total_illegal_parking_fraction = (top10_total['Illegal Parking']/total_incidents)*100\n",
    "total_illegal_parking_fraction"
   ]
  },
  {
   "cell_type": "code",
   "execution_count": 20,
   "metadata": {},
   "outputs": [
    {
     "data": {
      "text/plain": [
       "21470"
      ]
     },
     "execution_count": 20,
     "metadata": {},
     "output_type": "execute_result"
    }
   ],
   "source": [
    "total_incidents_zip = df1['Complaint Type'].count()\n",
    "total_incidents_zip"
   ]
  },
  {
   "cell_type": "code",
   "execution_count": 21,
   "metadata": {},
   "outputs": [
    {
     "data": {
      "text/plain": [
       "5.207265952491849"
      ]
     },
     "execution_count": 21,
     "metadata": {},
     "output_type": "execute_result"
    }
   ],
   "source": [
    "total_illegal_parking_zip_fraction = (top10_zip['Illegal Parking']/total_incidents_zip)*100\n",
    "total_illegal_parking_zip_fraction"
   ]
  },
  {
   "cell_type": "code",
   "execution_count": 22,
   "metadata": {},
   "outputs": [
    {
     "data": {
      "text/plain": [
       "False"
      ]
     },
     "execution_count": 22,
     "metadata": {},
     "output_type": "execute_result"
    }
   ],
   "source": [
    "higher_parking_proportion = bool()\n",
    "if total_illegal_parking_zip_fraction < total_illegal_parking_fraction:\n",
    "    higher_parking_proportion = False\n",
    "else:\n",
    "    higher_parking_proporation = True\n",
    "higher_parking_proportion"
   ]
  },
  {
   "cell_type": "code",
   "execution_count": null,
   "metadata": {},
   "outputs": [],
   "source": []
  }
 ],
 "metadata": {
  "kernelspec": {
   "display_name": "Python 3",
   "language": "python",
   "name": "python3"
  },
  "language_info": {
   "codemirror_mode": {
    "name": "ipython",
    "version": 3
   },
   "file_extension": ".py",
   "mimetype": "text/x-python",
   "name": "python",
   "nbconvert_exporter": "python",
   "pygments_lexer": "ipython3",
   "version": "3.8.3"
  }
 },
 "nbformat": 4,
 "nbformat_minor": 4
}
